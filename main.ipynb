{
 "cells": [
  {
   "cell_type": "code",
   "execution_count": 2,
   "metadata": {},
   "outputs": [
    {
     "data": {
      "text/html": [
       "\n",
       "        <div style=\"position: relative;\">\n",
       "            <pre style=\"background-color: #black; padding: 10px;\">def smallest_number(lst: list) -> int:\n",
       "    return min(lst)</pre>\n",
       "            <button id=\"copy-button\" onclick=\"copyToClipboard()\" style=\"position: absolute; top: 0; right: 0; margin: 10px; padding: 10px; background-color: #000; color: #fff; border: none; border-radius: 5px; cursor: pointer;\">Copy</button>\n",
       "        </div>\n",
       "        \n",
       "\n",
       "        <script>\n",
       "        function copyToClipboard() {\n",
       "            var text = `def smallest_number(lst: list) -> int:\n",
       "    return min(lst)`; // Stripped version of the code\n",
       "            var tempInput = document.createElement('textarea');\n",
       "            tempInput.value = text;\n",
       "            document.body.appendChild(tempInput);\n",
       "            tempInput.select();\n",
       "            document.execCommand('copy');\n",
       "            document.body.removeChild(tempInput);\n",
       "                \n",
       "            const copyButton = document.getElementById('copy-button');\n",
       "            copyButton.textContent = 'Copied!';\n",
       "            setTimeout(() => {\n",
       "                copyButton.textContent = 'Copy';\n",
       "            }, 1000);\n",
       "    }\n",
       "\n",
       "        </script>\n",
       "        "
      ],
      "text/plain": [
       "<IPython.core.display.HTML object>"
      ]
     },
     "metadata": {},
     "output_type": "display_data"
    }
   ],
   "source": [
    "from Consultant.consultant import Consultant\n",
    "from Consultant.prompt import Prompt, Engineer, Optimizer\n",
    "\n",
    "@Consultant.consult(Optimizer())\n",
    "def smallest_number(list: list) -> int:\n",
    "    smallest = list[0]\n",
    "    for number in list:\n",
    "        if number < smallest:\n",
    "            smallest = number\n",
    "    return smallest\n"
   ]
  },
  {
   "cell_type": "code",
   "execution_count": 4,
   "metadata": {},
   "outputs": [
    {
     "data": {
      "text/html": [
       "\n",
       "        <div style=\"position: relative;\">\n",
       "            <pre style=\"background-color: #black; padding: 10px;\">def smallest_number(list: list) -> int:\n",
       "    \"\"\"\n",
       "    This function takes a list of numbers as input and returns the smallest number in the list.\n",
       "\n",
       "    Parameters:\n",
       "    list (list): A list of numbers.\n",
       "\n",
       "    Returns:\n",
       "    int: The smallest number in the list.\n",
       "    \"\"\"\n",
       "    smallest = list[0]  # Initialize the smallest variable with the first element of the list\n",
       "    for number in list:\n",
       "        if number < smallest:  # Compare each number with the current smallest number\n",
       "            smallest = number  # Update smallest if the current number is smaller\n",
       "    return smallest</pre>\n",
       "            <button id=\"copy-button\" onclick=\"copyToClipboard()\" style=\"position: absolute; top: 0; right: 0; margin: 10px; padding: 10px; background-color: #000; color: #fff; border: none; border-radius: 5px; cursor: pointer;\">Copy</button>\n",
       "        </div>\n",
       "        \n",
       "\n",
       "        <script>\n",
       "        function copyToClipboard() {\n",
       "            var text = `def smallest_number(list: list) -> int:\n",
       "    \"\"\"\n",
       "    This function takes a list of numbers as input and returns the smallest number in the list.\n",
       "\n",
       "    Parameters:\n",
       "    list (list): A list of numbers.\n",
       "\n",
       "    Returns:\n",
       "    int: The smallest number in the list.\n",
       "    \"\"\"\n",
       "    smallest = list[0]  # Initialize the smallest variable with the first element of the list\n",
       "    for number in list:\n",
       "        if number < smallest:  # Compare each number with the current smallest number\n",
       "            smallest = number  # Update smallest if the current number is smaller\n",
       "    return smallest`; // Stripped version of the code\n",
       "            var tempInput = document.createElement('textarea');\n",
       "            tempInput.value = text;\n",
       "            document.body.appendChild(tempInput);\n",
       "            tempInput.select();\n",
       "            document.execCommand('copy');\n",
       "            document.body.removeChild(tempInput);\n",
       "                \n",
       "            const copyButton = document.getElementById('copy-button');\n",
       "            copyButton.textContent = 'Copied!';\n",
       "            setTimeout(() => {\n",
       "                copyButton.textContent = 'Copy';\n",
       "            }, 1000);\n",
       "    }\n",
       "\n",
       "        </script>\n",
       "        "
      ],
      "text/plain": [
       "<IPython.core.display.HTML object>"
      ]
     },
     "metadata": {},
     "output_type": "display_data"
    }
   ],
   "source": [
    "from Consultant.prompt import Prompt\n",
    "from Consultant.consultant import Consultant\n",
    "\n",
    "my_custom_prompt = Prompt(\n",
    "                         name = 'Documenter',\n",
    "                         description='This prompt aims to provide well documented code.',\n",
    "                        instruction='Your job is to read a given code and provide standard documentation and comments for it.',\n",
    "                        )\n",
    "@Consultant.consult(my_custom_prompt)\n",
    "def smallest_number(list: list) -> int:\n",
    "    smallest = list[0]\n",
    "    for number in list:\n",
    "        if number < smallest:\n",
    "            smallest = number\n",
    "    return smallest"
   ]
  }
 ],
 "metadata": {
  "kernelspec": {
   "display_name": "base",
   "language": "python",
   "name": "python3"
  },
  "language_info": {
   "codemirror_mode": {
    "name": "ipython",
    "version": 3
   },
   "file_extension": ".py",
   "mimetype": "text/x-python",
   "name": "python",
   "nbconvert_exporter": "python",
   "pygments_lexer": "ipython3",
   "version": "3.11.4"
  },
  "orig_nbformat": 4
 },
 "nbformat": 4,
 "nbformat_minor": 2
}
