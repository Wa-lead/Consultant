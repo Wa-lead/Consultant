{
 "cells": [
  {
   "cell_type": "code",
   "execution_count": 32,
   "metadata": {},
   "outputs": [
    {
     "name": "stdout",
     "output_type": "stream",
     "text": [
      "The new code produced by Consultant is:\n",
      "\n",
      "def find_common_elements(a, b):\n",
      "    return list(set(a).intersection(b))\n"
     ]
    }
   ],
   "source": [
    "from Consultant.consultant import consultant\n",
    "from Consultant.prompt import Prompt\n",
    "\n",
    "\n",
    "@consultant(Prompt.ENGINEER)\n",
    "def unoptimized_function(a,b):\n",
    "    c = [] #common elements between a and b\n",
    "    for i in a:\n",
    "        for j in b:\n",
    "            if i == j:\n",
    "                c.append(i)\n",
    "    return c\n",
    "\n",
    "\n",
    "a = [1,2,3]\n",
    "b = [2,3,4]\n",
    "\n",
    "unoptimized_function(a,b)"
   ]
  }
 ],
 "metadata": {
  "kernelspec": {
   "display_name": "base",
   "language": "python",
   "name": "python3"
  },
  "language_info": {
   "codemirror_mode": {
    "name": "ipython",
    "version": 3
   },
   "file_extension": ".py",
   "mimetype": "text/x-python",
   "name": "python",
   "nbconvert_exporter": "python",
   "pygments_lexer": "ipython3",
   "version": "3.9.16"
  },
  "orig_nbformat": 4
 },
 "nbformat": 4,
 "nbformat_minor": 2
}
